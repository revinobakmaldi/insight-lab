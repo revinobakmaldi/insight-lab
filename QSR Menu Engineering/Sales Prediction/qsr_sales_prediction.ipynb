{
 "cells": [
  {
   "cell_type": "markdown",
   "id": "c25dc0ff",
   "metadata": {},
   "source": [
    "# QSR Sales Prediction"
   ]
  },
  {
   "cell_type": "markdown",
   "id": "9dad3d54",
   "metadata": {},
   "source": [
    "Objective: Improve sales through Menu Engineering\n",
    "\n",
    "How:\n",
    "1. EDA: identify variable which drove more sales\n",
    "1. Menu profiling: identify which menu drove more sales\n",
    "1. Construct new menu composition or configuration\n",
    "1. Develop model to predict sales\n",
    "1. Predict sales"
   ]
  },
  {
   "cell_type": "markdown",
   "id": "5acb27b8",
   "metadata": {},
   "source": [
    "## Understanding the data"
   ]
  },
  {
   "cell_type": "markdown",
   "id": "917f0c41",
   "metadata": {},
   "source": [
    "### Import dataset from Kaggle Dataset"
   ]
  },
  {
   "cell_type": "code",
   "execution_count": 1,
   "id": "59fa52b8",
   "metadata": {},
   "outputs": [
    {
     "name": "stderr",
     "output_type": "stream",
     "text": [
      "C:\\Users\\revino.akmaldi\\AppData\\Local\\Temp\\ipykernel_1276\\8549707.py:8: DeprecationWarning: Use dataset_load() instead of load_dataset(). load_dataset() will be removed in a future version.\n",
      "  df = kagglehub.load_dataset(\n"
     ]
    }
   ],
   "source": [
    "import kagglehub\n",
    "from kagglehub import KaggleDatasetAdapter\n",
    "\n",
    "# Set the path to the file you'd like to load\n",
    "file_path = \"qsr_pos_logs.csv\"\n",
    "\n",
    "# Load the latest version\n",
    "df = kagglehub.load_dataset(\n",
    "  KaggleDatasetAdapter.PANDAS,\n",
    "  \"pratyushpuri/qsr-pos-logs-hotel-menu-modifiers-and-dayparts-2025\",\n",
    "  file_path,\n",
    "  # Provide any additional arguments like \n",
    "  # sql_query or pandas_kwargs. See the \n",
    "  # documenation for more information:\n",
    "  # https://github.com/Kaggle/kagglehub/blob/main/README.md#kaggledatasetadapterpandas\n",
    ")"
   ]
  },
  {
   "cell_type": "code",
   "execution_count": 8,
   "id": "ecade9d3",
   "metadata": {},
   "outputs": [
    {
     "data": {
      "application/vnd.microsoft.datawrangler.viewer.v0+json": {
       "columns": [
        {
         "name": "index",
         "rawType": "object",
         "type": "string"
        },
        {
         "name": "0",
         "rawType": "object",
         "type": "unknown"
        }
       ],
       "ref": "b61b77be-379f-43f4-b7bf-c2673c72c6c6",
       "rows": [
        [
         "order_id",
         "int64"
        ],
        [
         "store_id",
         "int64"
        ],
        [
         "transaction_datetime",
         "object"
        ],
        [
         "business_day",
         "object"
        ],
        [
         "daypart",
         "object"
        ],
        [
         "service_mode",
         "object"
        ],
        [
         "menu_item",
         "object"
        ],
        [
         "modifier",
         "object"
        ],
        [
         "quantity",
         "int64"
        ],
        [
         "unit_price",
         "float64"
        ],
        [
         "discount",
         "float64"
        ],
        [
         "tax",
         "float64"
        ],
        [
         "total_amount",
         "float64"
        ],
        [
         "payment_type",
         "object"
        ]
       ],
       "shape": {
        "columns": 1,
        "rows": 14
       }
      },
      "text/plain": [
       "order_id                  int64\n",
       "store_id                  int64\n",
       "transaction_datetime     object\n",
       "business_day             object\n",
       "daypart                  object\n",
       "service_mode             object\n",
       "menu_item                object\n",
       "modifier                 object\n",
       "quantity                  int64\n",
       "unit_price              float64\n",
       "discount                float64\n",
       "tax                     float64\n",
       "total_amount            float64\n",
       "payment_type             object\n",
       "dtype: object"
      ]
     },
     "execution_count": 8,
     "metadata": {},
     "output_type": "execute_result"
    }
   ],
   "source": [
    "df.dtypes"
   ]
  },
  {
   "cell_type": "markdown",
   "id": "be161223",
   "metadata": {},
   "source": [
    "### EDA"
   ]
  },
  {
   "cell_type": "code",
   "execution_count": 4,
   "id": "25ee4d64",
   "metadata": {},
   "outputs": [
    {
     "data": {
      "application/vnd.jupyter.widget-view+json": {
       "model_id": "2a652facf49f418a81097018a65968b2",
       "version_major": 2,
       "version_minor": 0
      },
      "text/plain": [
       "Summarize dataset:   0%|          | 0/5 [00:00<?, ?it/s]"
      ]
     },
     "metadata": {},
     "output_type": "display_data"
    },
    {
     "name": "stderr",
     "output_type": "stream",
     "text": [
      "100%|██████████| 14/14 [00:00<00:00, 52.39it/s]\n"
     ]
    },
    {
     "data": {
      "application/vnd.jupyter.widget-view+json": {
       "model_id": "9d17859b8c2a4814beb54a70364e0976",
       "version_major": 2,
       "version_minor": 0
      },
      "text/plain": [
       "Generate report structure:   0%|          | 0/1 [00:00<?, ?it/s]"
      ]
     },
     "metadata": {},
     "output_type": "display_data"
    },
    {
     "data": {
      "application/vnd.jupyter.widget-view+json": {
       "model_id": "28cb4a4cf23c4940b49d39d2f7400aae",
       "version_major": 2,
       "version_minor": 0
      },
      "text/plain": [
       "Render HTML:   0%|          | 0/1 [00:00<?, ?it/s]"
      ]
     },
     "metadata": {},
     "output_type": "display_data"
    },
    {
     "data": {
      "application/vnd.jupyter.widget-view+json": {
       "model_id": "6feed601f83947fabfc7325361d65a33",
       "version_major": 2,
       "version_minor": 0
      },
      "text/plain": [
       "Export report to file:   0%|          | 0/1 [00:00<?, ?it/s]"
      ]
     },
     "metadata": {},
     "output_type": "display_data"
    }
   ],
   "source": [
    "import pandas as pd\n",
    "from ydata_profiling import ProfileReport\n",
    "\n",
    "profile = ProfileReport(df, title = 'QSR Data')\n",
    "profile.to_file('kaggle_qsr_data.html')"
   ]
  },
  {
   "cell_type": "markdown",
   "id": "808f2c39",
   "metadata": {},
   "source": [
    "**Key informations:**\n",
    "- Each order id contains only one menu, so it is not possible to run a Market Basket Analysis\n",
    "- There are 10 stores\n",
    "- Transaction data are from 11-Apr-2025 to 9-Aug-2025\n",
    "- Daypart consists Morning, Breakfast, Lunch, Afternoon, Dinner\n",
    "- Services mode: Dine-In, Drive-Thru, Takeout, Delivery\n",
    "- There are 30 menu item being solde\n",
    "- There is modifier column act as notes for each menu\n",
    "- 78% of trx consists only 1 qty\n",
    "- There are 4 payment types: Card, Cash, MobilePay, & GiftCard"
   ]
  },
  {
   "cell_type": "markdown",
   "id": "350683d0",
   "metadata": {},
   "source": []
  }
 ],
 "metadata": {
  "kernelspec": {
   "display_name": "Python 3",
   "language": "python",
   "name": "python3"
  },
  "language_info": {
   "codemirror_mode": {
    "name": "ipython",
    "version": 3
   },
   "file_extension": ".py",
   "mimetype": "text/x-python",
   "name": "python",
   "nbconvert_exporter": "python",
   "pygments_lexer": "ipython3",
   "version": "3.10.11"
  }
 },
 "nbformat": 4,
 "nbformat_minor": 5
}
